{
 "cells": [
  {
   "cell_type": "code",
   "execution_count": 1,
   "metadata": {},
   "outputs": [],
   "source": [
    "import matplotlib.pyplot as plt\n",
    "import numpy as np\n",
    "from matplotlib.ticker import FuncFormatter\n",
    "# this allows plots to appear directly in the notebook\n",
    "%matplotlib inline"
   ]
  },
  {
   "cell_type": "markdown",
   "metadata": {},
   "source": [
    "## Dataset\n",
    "\n",
    "| x   | t [s]  |\n",
    "| --- | ------ |\n",
    "| 2   | 0.004  |\n",
    "| 3   | 0.012  |\n",
    "| 4   | 0.064  |\n",
    "| 5   | 0.19   |\n",
    "| 6   | 1.54   |\n",
    "| 7   | 13.82  |\n",
    "| 8   | 102    |\n",
    "| 9   | 913.48 |\n",
    "| 10  | 8328.9 |"
   ]
  },
  {
   "cell_type": "code",
   "execution_count": 2,
   "metadata": {},
   "outputs": [],
   "source": [
    "x = np.array([2, 3, 4, 5, 6, 7, 8, 9, 10])\n",
    "t = np.array([0.004, 0.012, 0.064, 0.19, 1.54, 13.82, 102, 913.48, 8328.9])"
   ]
  },
  {
   "cell_type": "code",
   "execution_count": 3,
   "metadata": {},
   "outputs": [
    {
     "data": {
      "image/png": "[encoded data removed]",
      "text/plain": [
       "<matplotlib.figure.Figure at 0x7f945013e2b0>"
      ]
     },
     "metadata": {},
     "output_type": "display_data"
    }
   ],
   "source": [
    "plt.scatter(x, t)\n",
    "plt.show()"
   ]
  },
  {
   "cell_type": "markdown",
   "metadata": {},
   "source": [
    "## Exponential regression\n",
    "\n",
    "* We want to find a function `t = a*e^(b*x)`, i.e. find `a` and `b`.\n",
    "* Reorder to `log t = bx + log a`\n",
    "* We apply a linear regression to fit `x` against `log t`"
   ]
  },
  {
   "cell_type": "code",
   "execution_count": 4,
   "metadata": {},
   "outputs": [
    {
     "name": "stdout",
     "output_type": "stream",
     "text": [
      "a = -12.961811377902361\n",
      "b = 2.1988475869322723\n"
     ]
    }
   ],
   "source": [
    "# exponential fit with weighted t\n",
    "b, a = np.polyfit(x, np.log(t), 1, w=np.sqrt(t))\n",
    "print(f'a = {a}\\nb = {b}')"
   ]
  },
  {
   "cell_type": "markdown",
   "metadata": {},
   "source": [
    "To get an exponential function again, we exponentiate the linear regression `t = b*x + a`"
   ]
  },
  {
   "cell_type": "code",
   "execution_count": 5,
   "metadata": {},
   "outputs": [],
   "source": [
    "def fn(x):\n",
    "    return np.exp(b*x + a)"
   ]
  },
  {
   "cell_type": "code",
   "execution_count": 6,
   "metadata": {},
   "outputs": [],
   "source": [
    "approx_x = np.linspace(2,10.5,100)\n",
    "approx_t = np.array([fn(x) for x in approx_x])"
   ]
  },
  {
   "cell_type": "code",
   "execution_count": 7,
   "metadata": {},
   "outputs": [
    {
     "data": {
      "image/png": "[encoded data removed]",
      "text/plain": [
       "<matplotlib.figure.Figure at 0x7f9426ba78d0>"
      ]
     },
     "metadata": {},
     "output_type": "display_data"
    }
   ],
   "source": [
    "fig, ax = plt.subplots()\n",
    "plt.plot(approx_x, approx_t, label='approximation')\n",
    "plt.scatter(x, t, color='red', label='measurement')\n",
    "ax.yaxis.set_major_formatter(FuncFormatter(lambda x, p: format(x, ',')))\n",
    "plt.legend()\n",
    "plt.xlabel('n free variables')\n",
    "plt.ylabel('time [s]')\n",
    "plt.show()"
   ]
  },
  {
   "cell_type": "markdown",
   "metadata": {},
   "source": [
    "Let's extrapolate a couple of steps"
   ]
  },
  {
   "cell_type": "code",
   "execution_count": 8,
   "metadata": {},
   "outputs": [
    {
     "name": "stdout",
     "output_type": "stream",
     "text": [
      "11: 20.839 hours\n",
      "12: 7.827 days\n",
      "13: 2.352 months\n",
      "14: 21.2 months\n",
      "15: 16.107 years\n"
     ]
    }
   ],
   "source": [
    "print(f'11: {fn(11) / 3600:3.5} hours')\n",
    "print(f'12: {fn(12) / 3600 / 24:3.4} days')\n",
    "print(f'13: {fn(13) / 3600 / 24 / 30:3.4} months')\n",
    "print(f'14: {fn(14) / 3600 / 24 / 30:3.4} months')\n",
    "print(f'15: {fn(15) / 3600 / 24 / 356:3.5} years')"
   ]
  }
 ],
 "metadata": {
  "kernelspec": {
   "display_name": "numpy-env",
   "language": "python",
   "name": "numpy-env"
  },
  "language_info": {
   "codemirror_mode": {
    "name": "ipython",
    "version": 3
   },
   "file_extension": ".py",
   "mimetype": "text/x-python",
   "name": "python",
   "nbconvert_exporter": "python",
   "pygments_lexer": "ipython3",
   "version": "3.6.2"
  }
 },
 "nbformat": 4,
 "nbformat_minor": 2
}
