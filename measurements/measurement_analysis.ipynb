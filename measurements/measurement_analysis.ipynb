{
 "cells": [
  {
   "cell_type": "code",
   "execution_count": 1,
   "metadata": {},
   "outputs": [],
   "source": [
    "import matplotlib.pyplot as plt\n",
    "import numpy as np\n",
    "# this allows plots to appear directly in the notebook\n",
    "%matplotlib inline"
   ]
  },
  {
   "cell_type": "markdown",
   "metadata": {},
   "source": [
    "## Dataset\n",
    "\n",
    "| x   | t [s]  |\n",
    "| --- | ------ |\n",
    "| 2   | 0.004  |\n",
    "| 3   | 0.012  |\n",
    "| 4   | 0.064  |\n",
    "| 5   | 0.19   |\n",
    "| 6   | 1.54   |\n",
    "| 7   | 13.82  |\n",
    "| 8   | 102    |\n",
    "| 9   | 913.48 |"
   ]
  },
  {
   "cell_type": "code",
   "execution_count": 2,
   "metadata": {},
   "outputs": [],
   "source": [
    "x = np.array([2, 3, 4, 5, 6, 7, 8, 9])\n",
    "t = np.array([0.004, 0.012, 0.064, 0.19, 1.54, 13.82, 102, 913.48])"
   ]
  },
  {
   "cell_type": "code",
   "execution_count": 3,
   "metadata": {},
   "outputs": [
    {
     "data": {
      "image/png": "[encoded data removed]",
      "text/plain": [
       "<matplotlib.figure.Figure at 0x7ff960bc99e8>"
      ]
     },
     "metadata": {},
     "output_type": "display_data"
    }
   ],
   "source": [
    "plt.scatter(x, t)\n",
    "plt.show()"
   ]
  },
  {
   "cell_type": "markdown",
   "metadata": {},
   "source": [
    "## Exponential regression\n",
    "\n",
    "* We want to find a function `y = a*e^(b*x)`, i.e. find `a` and `b`.\n",
    "* Reorder to `log t = log a + bx`\n",
    "* We will fit `t` against `log x`"
   ]
  },
  {
   "cell_type": "code",
   "execution_count": 4,
   "metadata": {},
   "outputs": [
    {
     "name": "stdout",
     "output_type": "stream",
     "text": [
      "a = 0.0008415066719257637\n",
      "b = 1.4917676919490122\n"
     ]
    }
   ],
   "source": [
    "# exponential fit with weighted t\n",
    "fit = np.polyfit(t, np.log(x), 1)\n",
    "print(f'a = {fit[0]}\\nb = {fit[1]}')\n"
   ]
  },
  {
   "cell_type": "code",
   "execution_count": 5,
   "metadata": {},
   "outputs": [],
   "source": [
    "def fn(x):\n",
    "    return fit[0]*np.exp(fit[1]*x)"
   ]
  },
  {
   "cell_type": "code",
   "execution_count": 6,
   "metadata": {},
   "outputs": [],
   "source": [
    "approx_x = np.linspace(2,10,100)\n",
    "approx_t = np.array([fn(x) for x in approx_x])"
   ]
  },
  {
   "cell_type": "code",
   "execution_count": 7,
   "metadata": {},
   "outputs": [
    {
     "data": {
      "image/png": "[encoded data removed]",
      "text/plain": [
       "<matplotlib.figure.Figure at 0x7ff95eb474a8>"
      ]
     },
     "metadata": {},
     "output_type": "display_data"
    }
   ],
   "source": [
    "plt.plot(approx_x, approx_t, label='approximation')\n",
    "plt.scatter(x, t, color='red', label='measurement')\n",
    "plt.legend()\n",
    "plt.xlabel('n free variables')\n",
    "plt.ylabel('time [s]')\n",
    "plt.show()"
   ]
  },
  {
   "cell_type": "markdown",
   "metadata": {},
   "source": [
    "Let's extrapolate a couple of steps"
   ]
  },
  {
   "cell_type": "code",
   "execution_count": 8,
   "metadata": {},
   "outputs": [
    {
     "name": "stdout",
     "output_type": "stream",
     "text": [
      "10: 42.2 hours\n",
      "12: 13.9 days\n",
      "15: 3.43 years\n"
     ]
    }
   ],
   "source": [
    "print(f'10: {fn(10) / 60:2.3} hours')\n",
    "print(f'12: {fn(12) / 3600:3.4} days')\n",
    "print(f'15: {fn(15) / 3600 / 356:3.4} years')"
   ]
  }
 ],
 "metadata": {
  "kernelspec": {
   "display_name": "numpy-env",
   "language": "python",
   "name": "numpy-env"
  },
  "language_info": {
   "codemirror_mode": {
    "name": "ipython",
    "version": 3
   },
   "file_extension": ".py",
   "mimetype": "text/x-python",
   "name": "python",
   "nbconvert_exporter": "python",
   "pygments_lexer": "ipython3",
   "version": "3.6.2"
  }
 },
 "nbformat": 4,
 "nbformat_minor": 2
}
